{
 "cells": [
  {
   "cell_type": "code",
   "execution_count": 1,
   "metadata": {},
   "outputs": [],
   "source": [
    "import torch\n",
    "import torch.nn as nn\n",
    "import torch.nn.functional as F"
   ]
  },
  {
   "cell_type": "code",
   "execution_count": 45,
   "metadata": {},
   "outputs": [],
   "source": [
    "class LogisticDropout(nn.Module):\n",
    "    def __init__(self,\n",
    "                 input_size: int,\n",
    "                 r: float = 3.9,\n",
    "                 seed: int = None):\n",
    "        super(LogisticDropout, self).__init__()\n",
    "\n",
    "        # constants\n",
    "        self.r = r\n",
    "        self.seed = seed\n",
    "\n",
    "        # intialize state (0, 1]\n",
    "        if self.seed is not None:\n",
    "            torch.manual_seed(self.seed)\n",
    "        self.logistic_map = lambda x: r * x * (1 - x)\n",
    "        self.state = torch.rand(input_size)\n",
    "\n",
    "    def forward(self, x):\n",
    "        if self.training:\n",
    "            self.state = self.logistic_map(x)\n",
    "            return self.state.to(x.device)\n",
    "        return x"
   ]
  },
  {
   "cell_type": "code",
   "execution_count": 58,
   "metadata": {},
   "outputs": [
    {
     "name": "stdout",
     "output_type": "stream",
     "text": [
      "tensor([[0.8023, 0.1978, 0.6492],\n",
      "        [0.7887, 0.6501, 0.9438]])\n"
     ]
    }
   ],
   "source": [
    "# test LogisticDropout on a random 3 dimensional tensor\n",
    "if __name__ == '__main__':\n",
    "    size = (2, 3)\n",
    "    x = torch.rand(size)\n",
    "    logistic_dropout = LogisticDropout(size)\n",
    "    print(logistic_dropout(x))"
   ]
  },
  {
   "cell_type": "code",
   "execution_count": null,
   "metadata": {},
   "outputs": [],
   "source": []
  }
 ],
 "metadata": {
  "kernelspec": {
   "display_name": "chaos",
   "language": "python",
   "name": "python3"
  },
  "language_info": {
   "codemirror_mode": {
    "name": "ipython",
    "version": 3
   },
   "file_extension": ".py",
   "mimetype": "text/x-python",
   "name": "python",
   "nbconvert_exporter": "python",
   "pygments_lexer": "ipython3",
   "version": "3.12.5"
  }
 },
 "nbformat": 4,
 "nbformat_minor": 2
}
